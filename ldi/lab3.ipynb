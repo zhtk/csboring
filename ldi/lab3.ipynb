{
 "cells": [
  {
   "cell_type": "markdown",
   "metadata": {},
   "source": [
    "**SMT solver and the Python API.**\n",
    "\n",
    "In the last lab, we have been using the SMT solver in Z3 via the SMT-LIB format. We can also use the SMT solver in Z3 via the Python API. The basic operations work exactly as we have learnt in Lab 2 -- we simply use a different sort than `Bool`:"
   ]
  },
  {
   "cell_type": "code",
   "execution_count": 1,
   "metadata": {},
   "outputs": [
    {
     "name": "stdout",
     "output_type": "stream",
     "text": [
      "[y = -1, x = 0]\n",
      "0.0\n",
      "3\n",
      "[]\n",
      "[]\n",
      "['unsat']\n",
      "[f = [else -> 0]]\n",
      "[x!19 = 0,\n",
      " y!18 = 1,\n",
      " f = [(0, 1) -> 2, (1, 0) -> 3, else -> 2]]\n",
      "[s2 = s!val!1, s1 = s!val!0, s3!20 = s!val!2]\n"
     ]
    }
   ],
   "source": [
    "from z3 import *\n",
    "\n",
    "x = Real('x')\n",
    "y = Real('y')\n",
    "z = Real('z')\n",
    "i = Int('i')\n",
    "\n",
    "def model(phi):\n",
    "    \n",
    "    # create a SAT instance\n",
    "    s = Solver()\n",
    "    s.add(phi)\n",
    "    \n",
    "    # return a satisfying assignment\n",
    "    return s.model() if s.check() == sat else [\"unsat\"]\n",
    "\n",
    "print(model(x > y))\n",
    "\n",
    "# retrieve a Real from the model, as a floating point value\n",
    "print(float(model(x > y)[x].as_string()))\n",
    "\n",
    "# retrieve an Int from the model, as Python int\n",
    "print(model(i >= 3)[i].as_long())\n",
    "\n",
    "# quantifiers\n",
    "print(model(ForAll(x, Exists(y, y > x))))\n",
    "\n",
    "# at most 1 condition satisfied\n",
    "print(model(ForAll([x, y], AtMost(x>y, y>x, x==y, 1))))\n",
    "# at least 2 conditions satisfied\n",
    "print(model(Exists([x, y], AtLeast(x>y, y>x, x==y, 2))))\n",
    "\n",
    "# function symbols -- e.g., function from RxR to R\n",
    "f = Function('f', RealSort(), RealSort(), RealSort())\n",
    "print(model(ForAll([x,y], f(x,y) == f(y,x))))\n",
    "print(model(Exists([x,y], f(x,y) != f(y,x))))\n",
    "\n",
    "# declare a new sort:\n",
    "\n",
    "s = DeclareSort('s')\n",
    "s1 = Const('s1', s)\n",
    "s2 = Const('s2', s)\n",
    "s3 = Const('s3', s)\n",
    "print(model([s1 != s2, Exists(s3, And(s3 != s1, s3 != s2))]))\n",
    "\n"
   ]
  },
  {
   "cell_type": "markdown",
   "metadata": {},
   "source": [
    "**Exercise 1 [Sudoku].**\n",
    "Solve a Sudoku puzzle using Z3. You have to fill the dots in a 9x9 grid with digits from '1' to '9' in such a way that:\n",
    "\n",
    "* in each row, every number appears exactly once,\n",
    "* in each column, every number appears exactly once,\n",
    "* our grid consists of nine 3x3 squares -- in each of them, every number has to appear exactly once.\n"
   ]
  },
  {
   "cell_type": "code",
   "execution_count": 2,
   "metadata": {},
   "outputs": [],
   "source": [
    "puzzle = [\n",
    "\"..53.....\",\n",
    "\"8......2.\",\n",
    "\".7..1.5..\",\n",
    "\"4....53..\",\n",
    "\".1..7...6\",\n",
    "\"..32...8.\",\n",
    "\".6.5....9\",\n",
    "\"..4....3.\",\n",
    "\".....97..\"]\n",
    "\n",
    "# Hint: the boolean expression Distinct(x,y,z,...) checks whether the given values are distinct"
   ]
  },
  {
   "cell_type": "code",
   "execution_count": 3,
   "metadata": {},
   "outputs": [
    {
     "name": "stdout",
     "output_type": "stream",
     "text": [
      "1 4 5 3 2 7 6 9 8 \n",
      "8 3 9 6 5 4 1 2 7 \n",
      "6 7 2 9 1 8 5 4 3 \n",
      "4 9 6 1 8 5 3 7 2 \n",
      "2 1 8 4 7 3 9 5 6 \n",
      "7 5 3 2 9 6 4 8 1 \n",
      "3 6 7 5 4 2 8 1 9 \n",
      "9 8 4 7 6 1 2 3 5 \n",
      "5 2 1 8 3 9 7 6 4 \n"
     ]
    }
   ],
   "source": [
    "from __future__ import print_function\n",
    "\n",
    "cells = {(i,j): Int('{}{}'.format(i,j)) for i in range(9)\n",
    "                                        for j in range(9)}\n",
    "\n",
    "formulas = []\n",
    "\n",
    "for l in range(9):\n",
    "    for r in range(9):\n",
    "        # Istniejące komórki\n",
    "        if puzzle[l][r] != '.':\n",
    "            formulas.append(cells[(l,r)] == int(puzzle[l][r]))\n",
    "        \n",
    "        # Komórki w zakresie 1 - 9\n",
    "        formulas.append(1 <= cells[(l,r)])\n",
    "        formulas.append(cells[(l,r)] <= 9)\n",
    "        \n",
    "# Różne komórki w linii i kolumnach\n",
    "for l in range(9):\n",
    "    formulas.append(Distinct(*[cells[(l, r)] for r in range(9)]))\n",
    "    formulas.append(Distinct(*[cells[(r, l)] for r in range(9)]))\n",
    "\n",
    "# Różne komórki w każdym kwadraciku\n",
    "for i in range(3):\n",
    "    for j in range(3):\n",
    "        square = [cells[(i*3+k, j*3+l)] for k in range(3) for l in range(3)]\n",
    "        formulas.append(Distinct(*square))\n",
    "\n",
    "m = model(formulas)\n",
    "for l in range(9):\n",
    "    for r in range(9):\n",
    "        print(m[cells[(l, r)]], end=\" \")\n",
    "    print(\"\")\n"
   ]
  },
  {
   "cell_type": "markdown",
   "metadata": {},
   "source": [
    "**Optimizer.** We can also use Z3 to find a solution which maximizes or minimizes the given goal."
   ]
  },
  {
   "cell_type": "code",
   "execution_count": 4,
   "metadata": {},
   "outputs": [
    {
     "name": "stdout",
     "output_type": "stream",
     "text": [
      "[y = 20, x = 40]\n"
     ]
    }
   ],
   "source": [
    "x = Real('x')\n",
    "y = Real('y')\n",
    "\n",
    "def maximize(phi, f):\n",
    "    opt = Optimize()\n",
    "    opt.add(phi)\n",
    "    opt.maximize(f)\n",
    "    return opt.model() if opt.check() else [\"unsat\"]\n",
    "\n",
    "print(maximize([x*2+y <= 100, x+y*3 <= 100], x+y))"
   ]
  },
  {
   "cell_type": "markdown",
   "metadata": {},
   "source": [
    "### **Exercise 2 [Minimum Weight Dominating Set].**\n",
    "In the Minimum Weighted Dominating Set problem, you are given a graph $(V,E)$ and a weight function $w:V \\rightarrow \\mathbb{N}$. A *dominating set* is a set $W \\subseteq V$ such that every vertex $v \\in V$ is in $W$ itself, or is adjacent to a vertex in $W$. You have to find a dominating set $W \\subseteq V$ such that the total weight of all vertices in $V$ is minimal. \n",
    "\n",
    "* Construct a graph with 100 vertices with random weights from 1 to 10, and n random edges.\n",
    "* Use Z3 to find the minimum weight dominating set.\n",
    "* Do this for n=0,...400. Examine how the time needed to compute the minimum weight dominating set changes. (It changes not only with n -- if we are unlucky, we can get instances much harder than usual ones with the given n!)\n",
    "* Does the problem become easier to solve for Z3 when we consider \"simple\" graphs (e.g., paths, trees, 5xK grids)? (All these graphs have low 'treewidth'. Many hard problems, including the dominating set problem, can be solved in linear time on graphs of treewidth $\\leq k$ using dynamic programming.)"
   ]
  },
  {
   "cell_type": "code",
   "execution_count": 5,
   "metadata": {},
   "outputs": [],
   "source": [
    "from random import randint\n",
    "\n",
    "def simulation(v, n):\n",
    "    weights = [randint(1, 10) for i in range(v)]\n",
    "    edges = []\n",
    "    \n",
    "    for i in range(n):\n",
    "        a = randint(0, v - 1)\n",
    "        b = randint(0, v - 1)\n",
    "        \n",
    "        if a < b:\n",
    "            (a, b) = (b, a)\n",
    "        \n",
    "        edges.append((a,b))\n",
    "    \n",
    "    # Formulation\n",
    "    vertices = [Int('v{}'.format(i)) for i in range(v)]\n",
    "    \n",
    "    wsum = Int('wsum')\n",
    "    formulas = []\n",
    "    formulas += [Or(i == 0, i == 1) for i in vertices]\n",
    "    formulas.append(wsum == Sum([ vertices[i] * weights[i] for i in range(v)]))\n",
    "    formulas += [Or(vertices[a] == 1, vertices[b] == 1) for (a,b) in edges]\n",
    "    \n",
    "    opt = Optimize()\n",
    "    opt.add(formulas)\n",
    "    opt.minimize(wsum)\n",
    "    m = opt.model() if opt.check() else [\"unsat\"]\n",
    "    return m[wsum]\n"
   ]
  },
  {
   "cell_type": "code",
   "execution_count": 6,
   "metadata": {},
   "outputs": [
    {
     "ename": "KeyboardInterrupt",
     "evalue": "",
     "output_type": "error",
     "traceback": [
      "\u001b[0;31m---------------------------------------------------------------------------\u001b[0m",
      "\u001b[0;31mKeyboardInterrupt\u001b[0m                         Traceback (most recent call last)",
      "\u001b[0;32m<ipython-input-6-694823a84323>\u001b[0m in \u001b[0;36m<module>\u001b[0;34m()\u001b[0m\n\u001b[1;32m     13\u001b[0m \u001b[0;34m\u001b[0m\u001b[0m\n\u001b[1;32m     14\u001b[0m \u001b[0mstep\u001b[0m \u001b[0;34m=\u001b[0m \u001b[0;36m10\u001b[0m\u001b[0;34m\u001b[0m\u001b[0m\n\u001b[0;32m---> 15\u001b[0;31m \u001b[0mplotpoints\u001b[0m \u001b[0;34m=\u001b[0m \u001b[0;34m[\u001b[0m\u001b[0;34m(\u001b[0m\u001b[0mi\u001b[0m \u001b[0;34m*\u001b[0m \u001b[0mstep\u001b[0m\u001b[0;34m,\u001b[0m \u001b[0mmeasure_run_time\u001b[0m\u001b[0;34m(\u001b[0m\u001b[0mi\u001b[0m \u001b[0;34m*\u001b[0m \u001b[0mstep\u001b[0m\u001b[0;34m)\u001b[0m\u001b[0;34m)\u001b[0m \u001b[0;32mfor\u001b[0m \u001b[0mi\u001b[0m \u001b[0;32min\u001b[0m \u001b[0mrange\u001b[0m\u001b[0;34m(\u001b[0m\u001b[0;36m400\u001b[0m \u001b[0;34m//\u001b[0m \u001b[0mstep\u001b[0m\u001b[0;34m)\u001b[0m\u001b[0;34m]\u001b[0m\u001b[0;34m\u001b[0m\u001b[0m\n\u001b[0m\u001b[1;32m     16\u001b[0m \u001b[0mplt\u001b[0m\u001b[0;34m.\u001b[0m\u001b[0mplot\u001b[0m\u001b[0;34m(\u001b[0m\u001b[0;34m*\u001b[0m\u001b[0;34m(\u001b[0m\u001b[0mzip\u001b[0m\u001b[0;34m(\u001b[0m\u001b[0;34m*\u001b[0m\u001b[0mplotpoints\u001b[0m\u001b[0;34m)\u001b[0m\u001b[0;34m)\u001b[0m\u001b[0;34m)\u001b[0m\u001b[0;34m\u001b[0m\u001b[0m\n\u001b[1;32m     17\u001b[0m \u001b[0mplt\u001b[0m\u001b[0;34m.\u001b[0m\u001b[0mshow\u001b[0m\u001b[0;34m(\u001b[0m\u001b[0;34m)\u001b[0m\u001b[0;34m\u001b[0m\u001b[0m\n",
      "\u001b[0;32m<ipython-input-6-694823a84323>\u001b[0m in \u001b[0;36m<listcomp>\u001b[0;34m(.0)\u001b[0m\n\u001b[1;32m     13\u001b[0m \u001b[0;34m\u001b[0m\u001b[0m\n\u001b[1;32m     14\u001b[0m \u001b[0mstep\u001b[0m \u001b[0;34m=\u001b[0m \u001b[0;36m10\u001b[0m\u001b[0;34m\u001b[0m\u001b[0m\n\u001b[0;32m---> 15\u001b[0;31m \u001b[0mplotpoints\u001b[0m \u001b[0;34m=\u001b[0m \u001b[0;34m[\u001b[0m\u001b[0;34m(\u001b[0m\u001b[0mi\u001b[0m \u001b[0;34m*\u001b[0m \u001b[0mstep\u001b[0m\u001b[0;34m,\u001b[0m \u001b[0mmeasure_run_time\u001b[0m\u001b[0;34m(\u001b[0m\u001b[0mi\u001b[0m \u001b[0;34m*\u001b[0m \u001b[0mstep\u001b[0m\u001b[0;34m)\u001b[0m\u001b[0;34m)\u001b[0m \u001b[0;32mfor\u001b[0m \u001b[0mi\u001b[0m \u001b[0;32min\u001b[0m \u001b[0mrange\u001b[0m\u001b[0;34m(\u001b[0m\u001b[0;36m400\u001b[0m \u001b[0;34m//\u001b[0m \u001b[0mstep\u001b[0m\u001b[0;34m)\u001b[0m\u001b[0;34m]\u001b[0m\u001b[0;34m\u001b[0m\u001b[0m\n\u001b[0m\u001b[1;32m     16\u001b[0m \u001b[0mplt\u001b[0m\u001b[0;34m.\u001b[0m\u001b[0mplot\u001b[0m\u001b[0;34m(\u001b[0m\u001b[0;34m*\u001b[0m\u001b[0;34m(\u001b[0m\u001b[0mzip\u001b[0m\u001b[0;34m(\u001b[0m\u001b[0;34m*\u001b[0m\u001b[0mplotpoints\u001b[0m\u001b[0;34m)\u001b[0m\u001b[0;34m)\u001b[0m\u001b[0;34m)\u001b[0m\u001b[0;34m\u001b[0m\u001b[0m\n\u001b[1;32m     17\u001b[0m \u001b[0mplt\u001b[0m\u001b[0;34m.\u001b[0m\u001b[0mshow\u001b[0m\u001b[0;34m(\u001b[0m\u001b[0;34m)\u001b[0m\u001b[0;34m\u001b[0m\u001b[0m\n",
      "\u001b[0;32m<ipython-input-6-694823a84323>\u001b[0m in \u001b[0;36mmeasure_run_time\u001b[0;34m(e)\u001b[0m\n\u001b[1;32m     10\u001b[0m \u001b[0;32mdef\u001b[0m \u001b[0mmeasure_run_time\u001b[0m\u001b[0;34m(\u001b[0m\u001b[0me\u001b[0m\u001b[0;34m)\u001b[0m\u001b[0;34m:\u001b[0m\u001b[0;34m\u001b[0m\u001b[0m\n\u001b[1;32m     11\u001b[0m     \u001b[0mretry\u001b[0m \u001b[0;34m=\u001b[0m \u001b[0;36m10\u001b[0m\u001b[0;34m\u001b[0m\u001b[0m\n\u001b[0;32m---> 12\u001b[0;31m     \u001b[0;32mreturn\u001b[0m \u001b[0msum\u001b[0m\u001b[0;34m(\u001b[0m\u001b[0;34m[\u001b[0m\u001b[0mmeasure_time\u001b[0m\u001b[0;34m(\u001b[0m\u001b[0me\u001b[0m\u001b[0;34m)\u001b[0m \u001b[0;32mfor\u001b[0m \u001b[0mi\u001b[0m \u001b[0;32min\u001b[0m \u001b[0mrange\u001b[0m\u001b[0;34m(\u001b[0m\u001b[0mretry\u001b[0m\u001b[0;34m)\u001b[0m\u001b[0;34m]\u001b[0m\u001b[0;34m)\u001b[0m \u001b[0;34m/\u001b[0m \u001b[0mfloat\u001b[0m\u001b[0;34m(\u001b[0m\u001b[0mretry\u001b[0m\u001b[0;34m)\u001b[0m\u001b[0;34m\u001b[0m\u001b[0m\n\u001b[0m\u001b[1;32m     13\u001b[0m \u001b[0;34m\u001b[0m\u001b[0m\n\u001b[1;32m     14\u001b[0m \u001b[0mstep\u001b[0m \u001b[0;34m=\u001b[0m \u001b[0;36m10\u001b[0m\u001b[0;34m\u001b[0m\u001b[0m\n",
      "\u001b[0;32m<ipython-input-6-694823a84323>\u001b[0m in \u001b[0;36m<listcomp>\u001b[0;34m(.0)\u001b[0m\n\u001b[1;32m     10\u001b[0m \u001b[0;32mdef\u001b[0m \u001b[0mmeasure_run_time\u001b[0m\u001b[0;34m(\u001b[0m\u001b[0me\u001b[0m\u001b[0;34m)\u001b[0m\u001b[0;34m:\u001b[0m\u001b[0;34m\u001b[0m\u001b[0m\n\u001b[1;32m     11\u001b[0m     \u001b[0mretry\u001b[0m \u001b[0;34m=\u001b[0m \u001b[0;36m10\u001b[0m\u001b[0;34m\u001b[0m\u001b[0m\n\u001b[0;32m---> 12\u001b[0;31m     \u001b[0;32mreturn\u001b[0m \u001b[0msum\u001b[0m\u001b[0;34m(\u001b[0m\u001b[0;34m[\u001b[0m\u001b[0mmeasure_time\u001b[0m\u001b[0;34m(\u001b[0m\u001b[0me\u001b[0m\u001b[0;34m)\u001b[0m \u001b[0;32mfor\u001b[0m \u001b[0mi\u001b[0m \u001b[0;32min\u001b[0m \u001b[0mrange\u001b[0m\u001b[0;34m(\u001b[0m\u001b[0mretry\u001b[0m\u001b[0;34m)\u001b[0m\u001b[0;34m]\u001b[0m\u001b[0;34m)\u001b[0m \u001b[0;34m/\u001b[0m \u001b[0mfloat\u001b[0m\u001b[0;34m(\u001b[0m\u001b[0mretry\u001b[0m\u001b[0;34m)\u001b[0m\u001b[0;34m\u001b[0m\u001b[0m\n\u001b[0m\u001b[1;32m     13\u001b[0m \u001b[0;34m\u001b[0m\u001b[0m\n\u001b[1;32m     14\u001b[0m \u001b[0mstep\u001b[0m \u001b[0;34m=\u001b[0m \u001b[0;36m10\u001b[0m\u001b[0;34m\u001b[0m\u001b[0m\n",
      "\u001b[0;32m<ipython-input-6-694823a84323>\u001b[0m in \u001b[0;36mmeasure_time\u001b[0;34m(e)\u001b[0m\n\u001b[1;32m      4\u001b[0m \u001b[0;32mdef\u001b[0m \u001b[0mmeasure_time\u001b[0m\u001b[0;34m(\u001b[0m\u001b[0me\u001b[0m\u001b[0;34m)\u001b[0m\u001b[0;34m:\u001b[0m\u001b[0;34m\u001b[0m\u001b[0m\n\u001b[1;32m      5\u001b[0m     \u001b[0mtb\u001b[0m \u001b[0;34m=\u001b[0m \u001b[0mtime\u001b[0m\u001b[0;34m.\u001b[0m\u001b[0mtime\u001b[0m\u001b[0;34m(\u001b[0m\u001b[0;34m)\u001b[0m\u001b[0;34m\u001b[0m\u001b[0m\n\u001b[0;32m----> 6\u001b[0;31m     \u001b[0msimulation\u001b[0m\u001b[0;34m(\u001b[0m\u001b[0;36m100\u001b[0m\u001b[0;34m,\u001b[0m \u001b[0me\u001b[0m\u001b[0;34m)\u001b[0m\u001b[0;34m\u001b[0m\u001b[0m\n\u001b[0m\u001b[1;32m      7\u001b[0m     \u001b[0mte\u001b[0m \u001b[0;34m=\u001b[0m \u001b[0mtime\u001b[0m\u001b[0;34m.\u001b[0m\u001b[0mtime\u001b[0m\u001b[0;34m(\u001b[0m\u001b[0;34m)\u001b[0m\u001b[0;34m\u001b[0m\u001b[0m\n\u001b[1;32m      8\u001b[0m     \u001b[0;32mreturn\u001b[0m \u001b[0mte\u001b[0m \u001b[0;34m-\u001b[0m \u001b[0mtb\u001b[0m\u001b[0;34m\u001b[0m\u001b[0m\n",
      "\u001b[0;32m<ipython-input-5-2756b846affc>\u001b[0m in \u001b[0;36msimulation\u001b[0;34m(v, n)\u001b[0m\n\u001b[1;32m     26\u001b[0m     \u001b[0mopt\u001b[0m\u001b[0;34m.\u001b[0m\u001b[0madd\u001b[0m\u001b[0;34m(\u001b[0m\u001b[0mformulas\u001b[0m\u001b[0;34m)\u001b[0m\u001b[0;34m\u001b[0m\u001b[0m\n\u001b[1;32m     27\u001b[0m     \u001b[0mopt\u001b[0m\u001b[0;34m.\u001b[0m\u001b[0mminimize\u001b[0m\u001b[0;34m(\u001b[0m\u001b[0mwsum\u001b[0m\u001b[0;34m)\u001b[0m\u001b[0;34m\u001b[0m\u001b[0m\n\u001b[0;32m---> 28\u001b[0;31m     \u001b[0mm\u001b[0m \u001b[0;34m=\u001b[0m \u001b[0mopt\u001b[0m\u001b[0;34m.\u001b[0m\u001b[0mmodel\u001b[0m\u001b[0;34m(\u001b[0m\u001b[0;34m)\u001b[0m \u001b[0;32mif\u001b[0m \u001b[0mopt\u001b[0m\u001b[0;34m.\u001b[0m\u001b[0mcheck\u001b[0m\u001b[0;34m(\u001b[0m\u001b[0;34m)\u001b[0m \u001b[0;32melse\u001b[0m \u001b[0;34m[\u001b[0m\u001b[0;34m\"unsat\"\u001b[0m\u001b[0;34m]\u001b[0m\u001b[0;34m\u001b[0m\u001b[0m\n\u001b[0m\u001b[1;32m     29\u001b[0m     \u001b[0;32mreturn\u001b[0m \u001b[0mm\u001b[0m\u001b[0;34m[\u001b[0m\u001b[0mwsum\u001b[0m\u001b[0;34m]\u001b[0m\u001b[0;34m\u001b[0m\u001b[0m\n",
      "\u001b[0;32m/usr/lib/python3.6/site-packages/z3/z3.py\u001b[0m in \u001b[0;36mcheck\u001b[0;34m(self)\u001b[0m\n\u001b[1;32m   6868\u001b[0m     \u001b[0;32mdef\u001b[0m \u001b[0mcheck\u001b[0m\u001b[0;34m(\u001b[0m\u001b[0mself\u001b[0m\u001b[0;34m)\u001b[0m\u001b[0;34m:\u001b[0m\u001b[0;34m\u001b[0m\u001b[0m\n\u001b[1;32m   6869\u001b[0m         \u001b[0;34m\"\"\"Check satisfiability while optimizing objective functions.\"\"\"\u001b[0m\u001b[0;34m\u001b[0m\u001b[0m\n\u001b[0;32m-> 6870\u001b[0;31m         \u001b[0;32mreturn\u001b[0m \u001b[0mCheckSatResult\u001b[0m\u001b[0;34m(\u001b[0m\u001b[0mZ3_optimize_check\u001b[0m\u001b[0;34m(\u001b[0m\u001b[0mself\u001b[0m\u001b[0;34m.\u001b[0m\u001b[0mctx\u001b[0m\u001b[0;34m.\u001b[0m\u001b[0mref\u001b[0m\u001b[0;34m(\u001b[0m\u001b[0;34m)\u001b[0m\u001b[0;34m,\u001b[0m \u001b[0mself\u001b[0m\u001b[0;34m.\u001b[0m\u001b[0moptimize\u001b[0m\u001b[0;34m)\u001b[0m\u001b[0;34m)\u001b[0m\u001b[0;34m\u001b[0m\u001b[0m\n\u001b[0m\u001b[1;32m   6871\u001b[0m \u001b[0;34m\u001b[0m\u001b[0m\n\u001b[1;32m   6872\u001b[0m     \u001b[0;32mdef\u001b[0m \u001b[0mreason_unknown\u001b[0m\u001b[0;34m(\u001b[0m\u001b[0mself\u001b[0m\u001b[0;34m)\u001b[0m\u001b[0;34m:\u001b[0m\u001b[0;34m\u001b[0m\u001b[0m\n",
      "\u001b[0;32m/usr/lib/python3.6/site-packages/z3/z3core.py\u001b[0m in \u001b[0;36mZ3_optimize_check\u001b[0;34m(a0, a1)\u001b[0m\n\u001b[1;32m   4936\u001b[0m \u001b[0;34m\u001b[0m\u001b[0m\n\u001b[1;32m   4937\u001b[0m \u001b[0;32mdef\u001b[0m \u001b[0mZ3_optimize_check\u001b[0m\u001b[0;34m(\u001b[0m\u001b[0ma0\u001b[0m\u001b[0;34m,\u001b[0m \u001b[0ma1\u001b[0m\u001b[0;34m)\u001b[0m\u001b[0;34m:\u001b[0m\u001b[0;34m\u001b[0m\u001b[0m\n\u001b[0;32m-> 4938\u001b[0;31m   \u001b[0mr\u001b[0m \u001b[0;34m=\u001b[0m \u001b[0mlib\u001b[0m\u001b[0;34m(\u001b[0m\u001b[0;34m)\u001b[0m\u001b[0;34m.\u001b[0m\u001b[0mZ3_optimize_check\u001b[0m\u001b[0;34m(\u001b[0m\u001b[0ma0\u001b[0m\u001b[0;34m,\u001b[0m \u001b[0ma1\u001b[0m\u001b[0;34m)\u001b[0m\u001b[0;34m\u001b[0m\u001b[0m\n\u001b[0m\u001b[1;32m   4939\u001b[0m   \u001b[0merr\u001b[0m \u001b[0;34m=\u001b[0m \u001b[0mlib\u001b[0m\u001b[0;34m(\u001b[0m\u001b[0;34m)\u001b[0m\u001b[0;34m.\u001b[0m\u001b[0mZ3_get_error_code\u001b[0m\u001b[0;34m(\u001b[0m\u001b[0ma0\u001b[0m\u001b[0;34m)\u001b[0m\u001b[0;34m\u001b[0m\u001b[0m\n\u001b[1;32m   4940\u001b[0m   \u001b[0;32mif\u001b[0m \u001b[0merr\u001b[0m \u001b[0;34m!=\u001b[0m \u001b[0mZ3_OK\u001b[0m\u001b[0;34m:\u001b[0m\u001b[0;34m\u001b[0m\u001b[0m\n",
      "\u001b[0;31mKeyboardInterrupt\u001b[0m: "
     ]
    }
   ],
   "source": [
    "import time\n",
    "import matplotlib.pyplot as plt\n",
    "\n",
    "def measure_time(e):\n",
    "    tb = time.time()\n",
    "    simulation(100, e)\n",
    "    te = time.time()\n",
    "    return te - tb\n",
    "\n",
    "def measure_run_time(e):\n",
    "    retry = 10\n",
    "    return sum([measure_time(e) for i in range(retry)]) / float(retry)\n",
    "\n",
    "step = 10\n",
    "plotpoints = [(i * step, measure_run_time(i * step)) for i in range(400 // step)]\n",
    "plt.plot(*(zip(*plotpoints)))\n",
    "plt.show()"
   ]
  },
  {
   "cell_type": "markdown",
   "metadata": {},
   "source": [
    "**Exercise 3 [Squaring the Square]**. You are given a list of integers `sizes`, and the number `n`. Each integer $i$ in `sizes` represents a square of dimensions $i \\times i$.\n",
    "\n",
    "Find out if it is possible to fit all the squares in a square of dimensions $n \\times n$, without overlapping. (It takes Z3 about a minute to solve the case below.)\n"
   ]
  },
  {
   "cell_type": "code",
   "execution_count": null,
   "metadata": {},
   "outputs": [],
   "source": [
    "sizes = [2, 4, 6, 7, 8, 9, 11, 15, 16, 17, 18, 19, 24, 25, 27, 29, 33, 35, 37, 42, 50]\n",
    "n = 112\n",
    "\n",
    "squares = [Int('s{}{}'.format(i, j)) for i in range(len(sizes)) for j in range(4)]\n",
    "\n",
    "formulas = []\n",
    "\n",
    "# All points are on plane\n",
    "formulas += [0 <= i for i in squares]\n",
    "formulas += [i <= n for i in squares]\n",
    "\n",
    "# Squares are in correct canonical form\n",
    "for i in range(len(sizes)):\n",
    "    formulas.append(squares[i*4 + 0] < squares[i*4 + 2])\n",
    "    formulas.append(squares[i*4 + 1] < squares[i*4 + 3])\n",
    "    formulas.append(squares[i*4 + 2] - squares[i*4 + 0] == sizes[i])\n",
    "    formulas.append(squares[i*4 + 3] - squares[i*4 + 1] == sizes[i])\n",
    "\n",
    "def not_overlapping(s1, s2):\n",
    "    pass\n",
    "\n",
    "# Squares are not overlapping\n",
    "for i in range(len(sizes)):\n",
    "    for j in range(len(sizes)):\n",
    "        if i >= j:\n",
    "            continue\n",
    "        \n",
    "        formulas += not_overlapping(i, j)\n"
   ]
  },
  {
   "cell_type": "markdown",
   "metadata": {},
   "source": [
    "Draw the result placement. Assign one of four colors to every square in such a way that adjacent squares are assigned different colors. We know this is possible from the Four Color Theorem."
   ]
  },
  {
   "cell_type": "code",
   "execution_count": null,
   "metadata": {
    "scrolled": false
   },
   "outputs": [],
   "source": [
    "# imshow can be used to draw a 2D array of numbers easily:\n",
    "\n",
    "import matplotlib.pyplot as plt\n",
    "\n",
    "tab = [[1,1,2], [1,1,2], [3,4,4]]\n",
    "plt.imshow(tab, cmap='magma', interpolation='nearest')\n",
    "plt.show()"
   ]
  },
  {
   "cell_type": "code",
   "execution_count": null,
   "metadata": {},
   "outputs": [],
   "source": []
  }
 ],
 "metadata": {
  "kernelspec": {
   "display_name": "Python 3",
   "language": "python",
   "name": "python3"
  },
  "language_info": {
   "codemirror_mode": {
    "name": "ipython",
    "version": 3
   },
   "file_extension": ".py",
   "mimetype": "text/x-python",
   "name": "python",
   "nbconvert_exporter": "python",
   "pygments_lexer": "ipython3",
   "version": "3.6.4"
  }
 },
 "nbformat": 4,
 "nbformat_minor": 2
}
