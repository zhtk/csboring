{
 "cells": [
  {
   "cell_type": "markdown",
   "metadata": {},
   "source": [
    "## Introduction\n",
    "\n",
    "SMT (Satisfiability Modulo Theory) solvers allow us to solve formulas involving not only propositional\n",
    "variables, but also variables from a given universe (sort), e.g., reals or integers. Quantifiers are also\n",
    "supported. Z3 is both a SAT solver and a SMT solver.\n",
    "In this lab, we will be working with the SMT-LIB input format (version 2). This format is \n",
    "inspired by the programming language LISP, and supported \n",
    "by many SMT solvers, thus allowing us to easily test multiple solvers on our formulas.\n",
    "\n",
    "## How to run\n",
    "\n",
    "The commands below can be entered into z3 interactively. Run `z3 -smt2 -in` to enter commands into z3 (even better, use `rlwrap z3 -smt2 -in` to allow line editing). The magic line `%%script z3 -smt2 -in` lets us to send the commands to z3 directly from Jupyter."
   ]
  },
  {
   "cell_type": "markdown",
   "metadata": {},
   "source": [
    "## SMT solver as a calculator\n",
    "\n",
    "SMT-LIB does not use \n",
    "typical expression format (with unary and binary operators); instead, expressions and commands are given as\n",
    "`(operator <parameter> ... <parameter>)`, similar to the programming language LISP. Thus, \n",
    "`x>y` is written as `(> x y)`. This LISP-like format is very easy to parse for a computer.\n",
    "\n",
    "Enter the following commands by hand:\n"
   ]
  },
  {
   "cell_type": "code",
   "execution_count": 1,
   "metadata": {},
   "outputs": [
    {
     "name": "stdout",
     "output_type": "stream",
     "text": [
      "20\n",
      "true\n"
     ]
    }
   ],
   "source": [
    "%%script z3 -smt2 -in\n",
    "\n",
    "(simplify (+ 8 12))\n",
    "(simplify (> 8 5))"
   ]
  },
  {
   "cell_type": "markdown",
   "metadata": {},
   "source": [
    "`simplify` is a command which tries to simplify the given expression."
   ]
  },
  {
   "cell_type": "markdown",
   "metadata": {},
   "source": [
    "## Constants"
   ]
  },
  {
   "cell_type": "code",
   "execution_count": 2,
   "metadata": {},
   "outputs": [
    {
     "name": "stdout",
     "output_type": "stream",
     "text": [
      "(+ 12.0 (* 2.0 x))\n",
      "(* (+ 1.0 x) (+ 1.0 x))\n"
     ]
    }
   ],
   "source": [
    "%%script z3 -smt2 -in\n",
    "\n",
    "(declare-const x Real)\n",
    "(define-const y Real 6.0)\n",
    "\n",
    ";# (comments in SMTLIB format start with ;, we also add # so that they look correctly in Jupyter)\n",
    "\n",
    ";# Here, both `x` and `y` are real constants. \n",
    ";# Available sorts in Z3 include Real, Bool, and Int.\n",
    ";# `x` is declared, i.e., no interpretation is provided.\n",
    ";# `y` is defined, i.e., an interpretation is provided.\n",
    "\n",
    "(simplify (+ x x y y))\n",
    "\n",
    "(simplify (* (+ x 1) (+ x 1)))\n"
   ]
  },
  {
   "cell_type": "markdown",
   "metadata": {},
   "source": [
    "**Exercise:** Simplify does not simplify polynomials as sums of monomials by default. Use `(help simplify)` to find an option which changes this. Options are given e.g. as in `(simplify (+ x x) :timeout 500)`.\n"
   ]
  },
  {
   "cell_type": "markdown",
   "metadata": {},
   "source": [
    "\n",
    "\n",
    "## Checking satisfiability\n",
    "\n",
    "Suppose we want to check whether the formula `x>y` is satisfiable in reals.\n"
   ]
  },
  {
   "cell_type": "code",
   "execution_count": 9,
   "metadata": {},
   "outputs": [
    {
     "name": "stdout",
     "output_type": "stream",
     "text": [
      "sat\n",
      "((x 0.0)\n",
      " (y (- 1.0)))\n"
     ]
    }
   ],
   "source": [
    "%%script z3 -smt2 -in\n",
    "\n",
    "(reset)\n",
    "\n",
    ";# Reset Z3 to forget the previous declarations of `x` and `y`.\n",
    ";# (This is not needed when you are just running from Jupyter -- z3 is restarted each time)\n",
    "\n",
    "(declare-const x Real)\n",
    "(declare-const y Real)\n",
    "\n",
    ";# We need to declare our constants\n",
    "\n",
    "(assert (> x y))\n",
    "\n",
    ";# We add our formula as an assertion\n",
    "\n",
    "(check-sat)\n",
    "\n",
    ";# We check whether our assertion is satisfiable. Z3 will try to tell whether there is\n",
    ";# an interpretation of declared, but undefined constants `x` and `y` such that our formula\n",
    ";# is satisfied. In this case, such an interpretation exists, so Z3 says `sat`.\n",
    "\n",
    "(get-value (x y))\n",
    "\n",
    ";# This tells us the values of `x` and `y` in the model found. We can also perform\n",
    ";# computations on them, e.g., `(get-value ((+ x y)))`.\n",
    "\n"
   ]
  },
  {
   "cell_type": "markdown",
   "metadata": {},
   "source": [
    "**Exercise:** Use Z3 to find integers $x, y$ such that $x,y>1$ and $xy = 1001$.\n",
    "\n",
    "**Exercise:** Use Z3 to find integer $x$ such that $x \\equiv 20\\ (\\rm{mod\\ }101)$ and $x \\equiv 80\\ (\\rm{mod\\ }103)$. Z3 has a mod operator, but avoid using it by introducing extra variables.\n",
    "\n",
    "**Exercise**: Diophantine equations (i.e., ones where we are looking for integer solutions) are undecidable in general, but Z3 is able to solve these particular ones. Guess if Z3 is able to check whether the following are satisfiable in integers: $x^2+y^2=z^2$ ($x,y>1$); $x^3+y^3=z^3$ ($x,y>1$); $x \\equiv 20\\ ({\\rm mod\\ }1000000002)$ and $x \\equiv 81\\ ({\\rm mod}\\ 1000000005)$; $x^2+y^2=4z+3$. Verify your suspicions.\n",
    "\n"
   ]
  },
  {
   "cell_type": "code",
   "execution_count": 8,
   "metadata": {},
   "outputs": [
    {
     "name": "stdout",
     "output_type": "stream",
     "text": [
      "sat\n",
      "((x 2.0)\n",
      " (y (/ 1001.0 2.0)))\n"
     ]
    }
   ],
   "source": [
    "%%script z3 -smt2 -in\n",
    ";# Exercise 1 - to może być faktoryzacja\n",
    "(reset)\n",
    "\n",
    "(declare-const x Real)\n",
    "(declare-const y Real)\n",
    "\n",
    "(assert (> x 1))\n",
    "(assert (> y 1))\n",
    "(assert (= 1001 (* x y)))\n",
    "\n",
    "(check-sat)\n",
    "\n",
    "(get-value (x y))"
   ]
  },
  {
   "cell_type": "code",
   "execution_count": 19,
   "metadata": {},
   "outputs": [
    {
     "name": "stdout",
     "output_type": "stream",
     "text": [
      "sat\n",
      "((x 7393))\n"
     ]
    }
   ],
   "source": [
    "%%script z3 -smt2 -in\n",
    ";# Exercise 2\n",
    "\n",
    "(reset)\n",
    "\n",
    "(declare-const x Int)\n",
    "(declare-const m1 Int)\n",
    "(declare-const m2 Int)\n",
    "\n",
    "(assert (= x (+ 20 (* 101 m1))))\n",
    "(assert (< m1 101))\n",
    "(assert (= x (+ 80 (* 103 m2))))\n",
    "(assert (< m2 103))\n",
    "(assert (<= 0 x))\n",
    "\n",
    "(check-sat)\n",
    "\n",
    "(get-value (x))"
   ]
  },
  {
   "cell_type": "code",
   "execution_count": 25,
   "metadata": {},
   "outputs": [
    {
     "name": "stdout",
     "output_type": "stream",
     "text": [
      "unknown\n",
      "(error \"line 38 column 18: model is not available\")\n"
     ]
    }
   ],
   "source": [
    "%%script z3 -smt2 -in\n",
    ";# Exercise 3\n",
    "\n",
    "(reset)\n",
    "\n",
    "(declare-const x Int)\n",
    "(declare-const y Int)\n",
    "(declare-const z Int)\n",
    "(declare-const m1 Int)\n",
    "(declare-const m2 Int)\n",
    "\n",
    "; Formula case 1\n",
    "; (assert (> x 1))\n",
    "; (assert (> y 1))\n",
    "; (assert (= (+ (* x x) (* y y)) (* z z)))\n",
    "; Sat\n",
    "\n",
    "; Formula case 2\n",
    "; (assert (> x 1))\n",
    "; (assert (> y 1))\n",
    "; (assert (= (+ (* x x x) (* y y y)) (* z z z)))\n",
    "; Unknown\n",
    "\n",
    "; Formula case 3\n",
    ";(assert (= x (+ 20 (* 1000000002 m1))))\n",
    ";(assert (< m1 1000000002))\n",
    ";(assert (= x (+ 81 (* 1000000005 m2))))\n",
    ";(assert (< m2 1000000005))\n",
    "; Unsat\n",
    "\n",
    "; Formula case 4\n",
    "; (assert (> x 1))\n",
    "; (assert (> y 1))\n",
    "; (assert (= (+ (* x x) (* y y)) (+ (* 4 z) 3)))\n",
    "; Unknown\n",
    "\n",
    "(check-sat)\n",
    "\n",
    "(get-value (x y z))"
   ]
  },
  {
   "cell_type": "markdown",
   "metadata": {},
   "source": [
    "## Incremental solving\n",
    "\n",
    "In the last section, we had to reset Z3 to remove the definitions and assertions which we no longer wanted. \n",
    "This may be inconvenient when we want to keep a part of the assertions. To solve this, we can use Z3's internal stack.\n",
    "Type:"
   ]
  },
  {
   "cell_type": "code",
   "execution_count": 4,
   "metadata": {},
   "outputs": [
    {
     "name": "stdout",
     "output_type": "stream",
     "text": [
      "sat\n",
      "unsat\n",
      "unsat\n"
     ]
    }
   ],
   "source": [
    "%%script z3 -smt2 -in\n",
    "\n",
    "(reset)\n",
    "(declare-const x Real)\n",
    "(declare-const y Real)\n",
    "(declare-const z Real)\n",
    "(assert (> x y))\n",
    "(assert (> y z))\n",
    "(check-sat)\n",
    "\n",
    ";# Here, z3 says the formula is satisfiable. Let us check if it is still satisfiable\n",
    ";# when we additionally assume that `z>x`.\n",
    "\n",
    "(push)\n",
    "(assert (> z x))\n",
    "(check-sat)\n",
    "\n",
    ";# It is not, so we want to remove the constraint `z>x` (no point to add new constraint if it is already unsatisfiable).\n",
    ";# Luckily, we have pushed the current solver state with `(push)` before adding this\n",
    ";# contraint, so we can use `(pop)` to get back to that state, and try a new constraint, e.g.:\n",
    "\n",
    "(pop)\n",
    "(push)\n",
    "(assert (= z (+ x 3)))\n",
    "(check-sat)\n",
    "\n",
    ";# This was done interactively. An external program could redirect input and output to Z3."
   ]
  },
  {
   "cell_type": "markdown",
   "metadata": {},
   "source": [
    "**Exercise:** A group of children has visited the local candy store. A cake costs 3.7 PLN, a donut costs 1.2 PLN, an ice cream with one scoop costs 3.0 PLN, and 2.5 PLN more for each extra scoop. Krzysiek has paid exactly 9.7 PLN. Jaś and Małgosia both have paid exactly 7.9 PLN; Jaś hates cakes (never buys them), but Małgosia loves them (and always buys them). Every child has bought at most one icecream. Use Z3 to find out what every child could have bought. Use (push) and (pop) to share the assertions which are common between all children. The function `ite` could be useful (if-then-else: (ite x y z) is similar to x?y:z in C)."
   ]
  },
  {
   "cell_type": "code",
   "execution_count": 33,
   "metadata": {},
   "outputs": [
    {
     "name": "stdout",
     "output_type": "stream",
     "text": [
      "sat\n",
      "((cake 1)\n",
      " (donut 5)\n",
      " (icecream 0))\n",
      "sat\n",
      "((cake 0)\n",
      " (donut 2)\n",
      " (icecream 2))\n",
      "sat\n",
      "((cake 1)\n",
      " (donut 1)\n",
      " (icecream 1))\n"
     ]
    }
   ],
   "source": [
    "%%script z3 -smt2 -in\n",
    "\n",
    "(reset)\n",
    "\n",
    "(declare-const cake Int)\n",
    "(declare-const donut Int)\n",
    "(declare-const icecream Int)\n",
    "(declare-const cost Real)\n",
    "\n",
    "(assert (>= cake 0))\n",
    "(assert (>= donut 0))\n",
    "(assert (>= icecream 0))\n",
    "\n",
    "(assert (= cost (+ (* 3.7 cake) (* 1.2 donut) (ite (= icecream 0) 0 (+ 3.0 (* 2.5 (- icecream 1) ) )))))\n",
    "\n",
    "; Wynik dla Krzyśka\n",
    "(push)\n",
    "(assert (= cost 9.7))\n",
    "(check-sat)\n",
    "(get-value (cake donut icecream))\n",
    "(pop)\n",
    "\n",
    "; Wynik dla Jasia\n",
    "(push)\n",
    "(assert (= cost 7.9))\n",
    "(assert (= cake 0))\n",
    "(check-sat)\n",
    "(get-value (cake donut icecream))\n",
    "(pop)\n",
    "\n",
    "; Wynik dla Małgosi\n",
    "(push)\n",
    "(assert (= cost 7.9))\n",
    "(assert (> cake 0))\n",
    "(check-sat)\n",
    "(get-value (cake donut icecream))\n",
    "(pop)"
   ]
  },
  {
   "cell_type": "markdown",
   "metadata": {},
   "source": [
    "## Quantifiers\n",
    "\n",
    "In the example below, we check whether the order on reals is dense. The new elements include implication `=>` and quantifiers `forall` and `exists`.\n"
   ]
  },
  {
   "cell_type": "code",
   "execution_count": 5,
   "metadata": {},
   "outputs": [
    {
     "name": "stdout",
     "output_type": "stream",
     "text": [
      "sat\n"
     ]
    }
   ],
   "source": [
    "%%script z3 -smt2 -in\n",
    "\n",
    "(assert \n",
    "  (forall \n",
    "    ((x Real) (y Real)) \n",
    "    (=> \n",
    "      (< x y) \n",
    "      (exists \n",
    "        ((z Real)) \n",
    "        (and (< x z) (< z y))\n",
    "      )\n",
    "    )\n",
    "  )\n",
    ")\n",
    "(check-sat)\n"
   ]
  },
  {
   "cell_type": "markdown",
   "metadata": {},
   "source": [
    "**Exercise:** Check if the order on integers is dense. Find a counterexample (i.e., x and y such that z does not exist).\n"
   ]
  },
  {
   "cell_type": "code",
   "execution_count": 46,
   "metadata": {},
   "outputs": [
    {
     "name": "stdout",
     "output_type": "stream",
     "text": [
      "unsat\n",
      "sat\n",
      "((x 0)\n",
      " (y 1))\n"
     ]
    }
   ],
   "source": [
    "%%script z3 -smt2 -in\n",
    "\n",
    "; Checking if integers are dense\n",
    "(reset)\n",
    "\n",
    "(assert \n",
    "  (forall \n",
    "    ((x Int) (y Int)) \n",
    "    (=> \n",
    "      (< x y) \n",
    "      (exists \n",
    "        ((z Int)) \n",
    "        (and (< x z) (< z y))\n",
    "      )\n",
    "    )\n",
    "  )\n",
    ")\n",
    "(check-sat)\n",
    "\n",
    "; Getting counterexample\n",
    "(reset)\n",
    "\n",
    "(declare-const x Int)\n",
    "(declare-const y Int)\n",
    "\n",
    "(assert (< x y))\n",
    "\n",
    "(assert (not (exists ((z Int)) (and (< x z) (< z y)))))\n",
    "\n",
    "(check-sat)\n",
    "(get-value (x y))"
   ]
  },
  {
   "cell_type": "markdown",
   "metadata": {},
   "source": [
    "## Functions\n",
    "\n",
    "We can also declare/define function symbols.\n"
   ]
  },
  {
   "cell_type": "code",
   "execution_count": 43,
   "metadata": {},
   "outputs": [
    {
     "name": "stdout",
     "output_type": "stream",
     "text": [
      "sat\n",
      "(model \n",
      "  (define-fun f ((x!0 Real) (x!1 Real)) Real\n",
      "    0.0)\n",
      ")\n",
      "sat\n",
      "(model \n",
      "  (define-fun x!6 () Real\n",
      "    0.0)\n",
      "  (define-fun z!4 () Real\n",
      "    3.0)\n",
      "  (define-fun y!5 () Real\n",
      "    1.0)\n",
      "  (define-fun f ((x!0 Real) (x!1 Real)) Real\n",
      "    (ite (and (= x!0 0.0) (= x!1 1.0)) 2.0\n",
      "    (ite (and (= x!0 2.0) (= x!1 3.0)) 4.0\n",
      "    (ite (and (= x!0 1.0) (= x!1 3.0)) 5.0\n",
      "    (ite (and (= x!0 0.0) (= x!1 5.0)) 6.0\n",
      "      2.0)))))\n",
      ")\n"
     ]
    }
   ],
   "source": [
    "%%script z3 -smt2 -in\n",
    "\n",
    "(declare-fun f (Real Real) Real)\n",
    ";# We declare a function symbol `f`, with two Real arguments and Real value.\n",
    "\n",
    "(define-fun assoc () Bool (forall ((x Real) (y Real) (z Real)) (= (f (f x y) z) (f x (f y z)))))\n",
    ";# We define a function symbol `assoc`, with no arguments and Bool value, i.e., a boolean constant.\n",
    ";# We define assoc to say that `f` is associative. This way, we can refer to the associativity condition via `assoc`.\n",
    "\n",
    ";# Let us check whether an associative `f` exists:\n",
    "\n",
    "(push)\n",
    "(assert assoc)\n",
    "(check-sat)\n",
    "(get-model)\n",
    "(pop)\n",
    "\n",
    ";# Let us check whether an non-associative `f` exists:\n",
    "\n",
    "(push)\n",
    "(assert (not assoc))\n",
    "(check-sat)\n",
    "(get-model)\n",
    "(pop)\n",
    "\n",
    ";# We use `(get-model)` to retrieve the examples found by Z3."
   ]
  },
  {
   "cell_type": "markdown",
   "metadata": {},
   "source": [
    "**Exercise:** Check whether the following functions are associative: +, -, max, by adding an assertion that\n",
    "`f` is the given function."
   ]
  },
  {
   "cell_type": "code",
   "execution_count": 56,
   "metadata": {},
   "outputs": [
    {
     "name": "stdout",
     "output_type": "stream",
     "text": [
      "(error \"line 10 column 11: invalid function application, missing arguments f\")\n",
      "sat\n",
      "(model \n",
      "  (define-fun f ((x!0 Real) (x!1 Real)) Real\n",
      "    0.0)\n",
      ")\n"
     ]
    }
   ],
   "source": [
    "%%script z3 -smt2 -in\n",
    "(reset)\n",
    "\n",
    "(declare-fun f (Real Real) Real)\n",
    "\n",
    "(define-fun assoc () Bool (forall ((x Real) (y Real) (z Real)) (= (f (f x y) z) (f x (f y z)))))\n",
    "(assert assoc)\n",
    "\n",
    "(push)\n",
    "(define-fun f2 ((x Real) (y Real)) Real (+ x y) )\n",
    "(assert (= f f2))\n",
    "(check-sat)\n",
    "(get-model)\n",
    "(pop)"
   ]
  },
  {
   "cell_type": "markdown",
   "metadata": {},
   "source": [
    "**Exercise:** Find a function which is commutative, but not associative. For what arguments `x`, `y`, `z` is it not associative?"
   ]
  },
  {
   "cell_type": "markdown",
   "metadata": {},
   "source": [
    "**Exercise:** Try to find a function which is associative, but not commutative (Z3 4.6.0 has problems with this)."
   ]
  },
  {
   "cell_type": "code",
   "execution_count": 57,
   "metadata": {},
   "outputs": [
    {
     "name": "stdout",
     "output_type": "stream",
     "text": [
      "Process is interrupted.\n"
     ]
    }
   ],
   "source": [
    "%%script z3 -smt2 -in\n",
    "\n",
    "(declare-fun f (Real Real) Real)\n",
    "\n",
    "(define-fun assoc () Bool (forall ((x Real) (y Real) (z Real)) (= (f (f x y) z) (f x (f y z)))))\n",
    "(define-fun comm () Bool (forall ((x Real) (y Real)) (= (f x y) (f y x))))\n",
    "\n",
    "(assert assoc)\n",
    "(assert (not comm))\n",
    "(check-sat)\n",
    "(get-model)"
   ]
  },
  {
   "cell_type": "markdown",
   "metadata": {},
   "source": [
    "## Warning: division by zero\n",
    "\n",
    "All functions in Z3 are total. This includes division: since all functions are total, 1/0 exists, but it is not specified.\n"
   ]
  },
  {
   "cell_type": "code",
   "execution_count": 17,
   "metadata": {},
   "outputs": [
    {
     "name": "stdout",
     "output_type": "stream",
     "text": [
      "sat\n"
     ]
    }
   ],
   "source": [
    "%%script z3 -smt2 -in\n",
    "\n",
    "(assert (= (/ 1 0) 10))\n",
    "(check-sat)\n",
    "\n"
   ]
  },
  {
   "cell_type": "markdown",
   "metadata": {},
   "source": [
    "## Declaring new sorts\n",
    "\n",
    "In the example below, we create a new sort `Z` (0 means that this sort is not parametrized; there can be parametrized sorts, e.g., a sort of arrays indexed with sort `S1` and with values in sort `S2`). `(check-sat)` tells us the formula is satisfiable, and `(get-model)` gives us a model with 2 elements."
   ]
  },
  {
   "cell_type": "code",
   "execution_count": 28,
   "metadata": {},
   "outputs": [
    {
     "name": "stdout",
     "output_type": "stream",
     "text": [
      "sat\n",
      "((x Z!val!0))\n",
      "(model \n",
      "  ;; universe for Z:\n",
      "  ;;   Z!val!0 Z!val!1 \n",
      "  ;; -----------\n",
      "  ;; definitions for universe elements:\n",
      "  (declare-fun Z!val!0 () Z)\n",
      "  (declare-fun Z!val!1 () Z)\n",
      "  ;; cardinality constraint:\n",
      "  (forall ((x Z)) (or (= x Z!val!0) (= x Z!val!1)))\n",
      "  ;; -----------\n",
      "  (define-fun z!0 () Z\n",
      "    Z!val!1)\n",
      "  (define-fun x () Z\n",
      "    Z!val!0)\n",
      ")\n"
     ]
    }
   ],
   "source": [
    "%%script z3 -smt2 -in\n",
    "\n",
    "(declare-sort Z 0)\n",
    "(declare-const x Z)\n",
    "(assert \n",
    "  (exists \n",
    "    ((z Z)) \n",
    "    (and \n",
    "      (not (= x z))\n",
    "      (forall ((y Z)) (or (= y x) (= y z)))\n",
    "    )\n",
    "  )\n",
    ")\n",
    "(check-sat)\n",
    "(get-value (x))\n",
    "(get-model)\n"
   ]
  }
 ],
 "metadata": {
  "kernelspec": {
   "display_name": "Python 3",
   "language": "python",
   "name": "python3"
  },
  "language_info": {
   "codemirror_mode": {
    "name": "ipython",
    "version": 2
   },
   "file_extension": ".py",
   "mimetype": "text/x-python",
   "name": "python",
   "nbconvert_exporter": "python",
   "pygments_lexer": "ipython2",
   "version": "2.7.14"
  }
 },
 "nbformat": 4,
 "nbformat_minor": 2
}
